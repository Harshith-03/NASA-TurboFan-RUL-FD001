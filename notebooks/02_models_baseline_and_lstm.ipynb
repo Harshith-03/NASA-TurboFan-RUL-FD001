{
 "cells": [
  {
   "cell_type": "code",
   "execution_count": 2,
   "id": "857b1343-0004-48b0-b98c-c8cb8209cfe9",
   "metadata": {},
   "outputs": [
    {
     "name": "stdout",
     "output_type": "stream",
     "text": [
      "DATA_DIR: C:\\Users\\harsh\\Projects\\NASA_TurboFan_RUL\\data\\FD001\n"
     ]
    }
   ],
   "source": [
    "# 02_models_baseline_and_lstm.ipynb\n",
    "from pathlib import Path\n",
    "import numpy as np\n",
    "import pandas as pd\n",
    "import matplotlib.pyplot as plt\n",
    "import seaborn as sns\n",
    "\n",
    "from sklearn.preprocessing import StandardScaler\n",
    "from sklearn.metrics import mean_squared_error, mean_absolute_error\n",
    "from sklearn.ensemble import RandomForestRegressor, GradientBoostingRegressor\n",
    "from sklearn.model_selection import train_test_split\n",
    "\n",
    "import joblib\n",
    "\n",
    "pd.set_option(\"display.max_columns\", 200)\n",
    "plt.rcParams[\"figure.figsize\"] = (8,5)\n",
    "\n",
    "BASE_DIR = Path.cwd().parent          # repo root (.. from notebooks/)\n",
    "DATA_DIR = BASE_DIR / \"data\" / \"FD001\"\n",
    "MODEL_DIR = BASE_DIR / \"models\"\n",
    "MODEL_DIR.mkdir(exist_ok=True, parents=True)\n",
    "\n",
    "print(\"DATA_DIR:\", DATA_DIR)\n"
   ]
  },
  {
   "cell_type": "code",
   "execution_count": 4,
   "id": "3c4188e0-856a-43de-a1e9-024a3f4214d9",
   "metadata": {},
   "outputs": [
    {
     "name": "stdout",
     "output_type": "stream",
     "text": [
      "(20631, 27) (13096, 28)\n"
     ]
    }
   ],
   "source": [
    "COLS = [\"unit\", \"cycle\", \"setting1\", \"setting2\", \"setting3\"] + [f\"s{i}\" for i in range(1,22)]\n",
    "\n",
    "def load_fd(path_train, path_test, path_rul):\n",
    "    for p in (path_train, path_test, path_rul):\n",
    "        assert Path(p).exists(), f\"Missing {p}\"\n",
    "    train = pd.read_csv(path_train, sep=r\"\\s+\", header=None)\n",
    "    test  = pd.read_csv(path_test,  sep=r\"\\s+\", header=None)\n",
    "    rul   = pd.read_csv(path_rul,   sep=r\"\\s+\", header=None)\n",
    "    if train.shape[1] > 26: train = train.iloc[:, :26]\n",
    "    if test.shape[1]  > 26: test  = test.iloc[:,  :26]\n",
    "    train.columns = COLS; test.columns = COLS; rul.columns = [\"RUL\"]\n",
    "    return train, test, rul\n",
    "\n",
    "def add_rul_labels(train, test, rul):\n",
    "    # Train labels\n",
    "    max_cycle_train = train.groupby(\"unit\")[\"cycle\"].max().rename(\"max_cycle\")\n",
    "    train = train.merge(max_cycle_train, on=\"unit\")\n",
    "    train[\"RUL\"] = train[\"max_cycle\"] - train[\"cycle\"]\n",
    "    train.drop(columns=[\"max_cycle\"], inplace=True)\n",
    "\n",
    "    # Test labels (map RUL vector to sorted unit ids)\n",
    "    last_test = test.groupby(\"unit\")[\"cycle\"].max().reset_index(name=\"last_cycle\")\n",
    "    units_sorted = pd.DataFrame({\"unit\": sorted(test[\"unit\"].unique())})\n",
    "    assert len(units_sorted) == len(rul), \"Units and RUL length mismatch\"\n",
    "    units_sorted[\"RUL_at_last\"] = rul[\"RUL\"].values\n",
    "    fail_map = last_test.merge(units_sorted, on=\"unit\")\n",
    "    fail_map[\"failure_cycle\"] = fail_map[\"last_cycle\"] + fail_map[\"RUL_at_last\"]\n",
    "    test = test.merge(fail_map[[\"unit\",\"failure_cycle\"]], on=\"unit\", how=\"left\")\n",
    "    test[\"true_RUL\"] = test[\"failure_cycle\"] - test[\"cycle\"]\n",
    "    test[\"true_RUL\"] = test[\"true_RUL\"].clip(lower=0)\n",
    "    return train, test\n",
    "\n",
    "train_raw, test_raw, rul = load_fd(\n",
    "    DATA_DIR / \"train_FD001.txt\",\n",
    "    DATA_DIR / \"test_FD001.txt\",\n",
    "    DATA_DIR / \"RUL_FD001.txt\",\n",
    ")\n",
    "train_lbl, test_lbl = add_rul_labels(train_raw.copy(), test_raw.copy(), rul.copy())\n",
    "\n",
    "print(train_lbl.shape, test_lbl.shape)\n"
   ]
  },
  {
   "cell_type": "code",
   "execution_count": 14,
   "id": "dbc0b363-85c0-40a9-bcf0-b8b96c70b6b6",
   "metadata": {},
   "outputs": [
    {
     "name": "stdout",
     "output_type": "stream",
     "text": [
      "Kept columns: 21  (incl. unit, cycle)\n"
     ]
    }
   ],
   "source": [
    "def select_informative_columns(df_train, df_test, threshold=1e-8):\n",
    "    sensor_cols = [c for c in df_train.columns if c.startswith(\"s\")]\n",
    "    setting_cols = [\"setting1\",\"setting2\"]  # setting3 is nearly constant on FD001\n",
    "    # variance on train only\n",
    "    var = df_train[sensor_cols].var()\n",
    "    keep_sensors = var[var > threshold].index.tolist()\n",
    "    keep = [\"unit\",\"cycle\"] + setting_cols + keep_sensors\n",
    "    return df_train[keep].copy(), df_test[keep].copy(), keep\n",
    "\n",
    "train_feats, test_feats, kept_cols = select_informative_columns(train_lbl, test_lbl)\n",
    "print(\"Kept columns:\", len(kept_cols), \" (incl. unit, cycle)\")\n"
   ]
  },
  {
   "cell_type": "code",
   "execution_count": 20,
   "id": "8c2f1ece-d058-48ee-911e-afe65962777d",
   "metadata": {},
   "outputs": [
    {
     "name": "stdout",
     "output_type": "stream",
     "text": [
      "kept_cols (first 10): ['unit', 'cycle', 'setting1', 'setting2', 'setting1', 'setting2', 's2', 's3', 's4', 's6']\n",
      "len(base_cols) = 19\n",
      "missing in train_feats: []\n"
     ]
    }
   ],
   "source": [
    "print(\"kept_cols (first 10):\", kept_cols[:10])\n",
    "base_cols = [c for c in kept_cols if c not in (\"unit\",\"cycle\")]\n",
    "print(\"len(base_cols) =\", len(base_cols))\n",
    "print(\"missing in train_feats:\", [c for c in base_cols if c not in train_feats.columns][:10])\n"
   ]
  },
  {
   "cell_type": "code",
   "execution_count": 26,
   "id": "d234c4c6-e72d-4cec-862c-e4899addd9ff",
   "metadata": {},
   "outputs": [
    {
     "name": "stdout",
     "output_type": "stream",
     "text": [
      "Dups in train_feats:\n",
      " setting1    2\n",
      "setting2    2\n",
      "Name: count, dtype: int64\n",
      "Dups in test_feats:\n",
      " setting1    2\n",
      "setting2    2\n",
      "Name: count, dtype: int64\n"
     ]
    }
   ],
   "source": [
    "def dup_cols(df):\n",
    "    counts = df.columns.value_counts()\n",
    "    return counts[counts > 1]\n",
    "\n",
    "print(\"Dups in train_feats:\\n\", dup_cols(train_feats))\n",
    "print(\"Dups in test_feats:\\n\", dup_cols(test_feats))\n"
   ]
  },
  {
   "cell_type": "code",
   "execution_count": 28,
   "id": "7f1106b2-4884-4eb1-b762-ed75a94841f6",
   "metadata": {},
   "outputs": [],
   "source": [
    "# Ensure no duplicated column names in feature frames\n",
    "train_feats = train_feats.loc[:, ~train_feats.columns.duplicated()].copy()\n",
    "test_feats  = test_feats.loc[:,  ~test_feats.columns.duplicated()].copy()\n",
    "\n",
    "# Also make the kept list unique while preserving order\n",
    "def unique_preserve(seq):\n",
    "    seen = set()\n",
    "    out = []\n",
    "    for x in seq:\n",
    "        if x not in seen:\n",
    "            out.append(x); seen.add(x)\n",
    "    return out\n",
    "\n",
    "kept_cols = unique_preserve(kept_cols)\n"
   ]
  },
  {
   "cell_type": "code",
   "execution_count": 30,
   "id": "644fef47-ff41-4444-bd76-67a95fb94f3b",
   "metadata": {},
   "outputs": [
    {
     "name": "stdout",
     "output_type": "stream",
     "text": [
      "len(base_cols) = 17\n"
     ]
    }
   ],
   "source": [
    "base_cols = [c for c in kept_cols if c not in (\"unit\",\"cycle\")]\n",
    "print(\"len(base_cols) =\", len(base_cols))\n"
   ]
  },
  {
   "cell_type": "code",
   "execution_count": 52,
   "id": "6d0c014c-303e-4444-9b78-1616cfc286a9",
   "metadata": {},
   "outputs": [
    {
     "name": "stderr",
     "output_type": "stream",
     "text": [
      "C:\\Users\\harsh\\AppData\\Local\\Temp\\ipykernel_22120\\618202405.py:15: PerformanceWarning: DataFrame is highly fragmented.  This is usually the result of calling `frame.insert` many times, which has poor performance.  Consider joining all columns at once using pd.concat(axis=1) instead. To get a de-fragmented frame, use `newframe = frame.copy()`\n",
      "  df[f\"{col}_mean_{w}\"] = g[col].transform(lambda s: s.rolling(w, min_periods=1).mean())\n",
      "C:\\Users\\harsh\\AppData\\Local\\Temp\\ipykernel_22120\\618202405.py:16: PerformanceWarning: DataFrame is highly fragmented.  This is usually the result of calling `frame.insert` many times, which has poor performance.  Consider joining all columns at once using pd.concat(axis=1) instead. To get a de-fragmented frame, use `newframe = frame.copy()`\n",
      "  df[f\"{col}_std_{w}\"]  = g[col].transform(lambda s: s.rolling(w, min_periods=1).std()).fillna(0.0)\n",
      "C:\\Users\\harsh\\AppData\\Local\\Temp\\ipykernel_22120\\618202405.py:15: PerformanceWarning: DataFrame is highly fragmented.  This is usually the result of calling `frame.insert` many times, which has poor performance.  Consider joining all columns at once using pd.concat(axis=1) instead. To get a de-fragmented frame, use `newframe = frame.copy()`\n",
      "  df[f\"{col}_mean_{w}\"] = g[col].transform(lambda s: s.rolling(w, min_periods=1).mean())\n",
      "C:\\Users\\harsh\\AppData\\Local\\Temp\\ipykernel_22120\\618202405.py:16: PerformanceWarning: DataFrame is highly fragmented.  This is usually the result of calling `frame.insert` many times, which has poor performance.  Consider joining all columns at once using pd.concat(axis=1) instead. To get a de-fragmented frame, use `newframe = frame.copy()`\n",
      "  df[f\"{col}_std_{w}\"]  = g[col].transform(lambda s: s.rolling(w, min_periods=1).std()).fillna(0.0)\n",
      "C:\\Users\\harsh\\AppData\\Local\\Temp\\ipykernel_22120\\618202405.py:15: PerformanceWarning: DataFrame is highly fragmented.  This is usually the result of calling `frame.insert` many times, which has poor performance.  Consider joining all columns at once using pd.concat(axis=1) instead. To get a de-fragmented frame, use `newframe = frame.copy()`\n",
      "  df[f\"{col}_mean_{w}\"] = g[col].transform(lambda s: s.rolling(w, min_periods=1).mean())\n",
      "C:\\Users\\harsh\\AppData\\Local\\Temp\\ipykernel_22120\\618202405.py:16: PerformanceWarning: DataFrame is highly fragmented.  This is usually the result of calling `frame.insert` many times, which has poor performance.  Consider joining all columns at once using pd.concat(axis=1) instead. To get a de-fragmented frame, use `newframe = frame.copy()`\n",
      "  df[f\"{col}_std_{w}\"]  = g[col].transform(lambda s: s.rolling(w, min_periods=1).std()).fillna(0.0)\n",
      "C:\\Users\\harsh\\AppData\\Local\\Temp\\ipykernel_22120\\618202405.py:15: PerformanceWarning: DataFrame is highly fragmented.  This is usually the result of calling `frame.insert` many times, which has poor performance.  Consider joining all columns at once using pd.concat(axis=1) instead. To get a de-fragmented frame, use `newframe = frame.copy()`\n",
      "  df[f\"{col}_mean_{w}\"] = g[col].transform(lambda s: s.rolling(w, min_periods=1).mean())\n",
      "C:\\Users\\harsh\\AppData\\Local\\Temp\\ipykernel_22120\\618202405.py:16: PerformanceWarning: DataFrame is highly fragmented.  This is usually the result of calling `frame.insert` many times, which has poor performance.  Consider joining all columns at once using pd.concat(axis=1) instead. To get a de-fragmented frame, use `newframe = frame.copy()`\n",
      "  df[f\"{col}_std_{w}\"]  = g[col].transform(lambda s: s.rolling(w, min_periods=1).std()).fillna(0.0)\n",
      "C:\\Users\\harsh\\AppData\\Local\\Temp\\ipykernel_22120\\618202405.py:15: PerformanceWarning: DataFrame is highly fragmented.  This is usually the result of calling `frame.insert` many times, which has poor performance.  Consider joining all columns at once using pd.concat(axis=1) instead. To get a de-fragmented frame, use `newframe = frame.copy()`\n",
      "  df[f\"{col}_mean_{w}\"] = g[col].transform(lambda s: s.rolling(w, min_periods=1).mean())\n",
      "C:\\Users\\harsh\\AppData\\Local\\Temp\\ipykernel_22120\\618202405.py:16: PerformanceWarning: DataFrame is highly fragmented.  This is usually the result of calling `frame.insert` many times, which has poor performance.  Consider joining all columns at once using pd.concat(axis=1) instead. To get a de-fragmented frame, use `newframe = frame.copy()`\n",
      "  df[f\"{col}_std_{w}\"]  = g[col].transform(lambda s: s.rolling(w, min_periods=1).std()).fillna(0.0)\n",
      "C:\\Users\\harsh\\AppData\\Local\\Temp\\ipykernel_22120\\618202405.py:15: PerformanceWarning: DataFrame is highly fragmented.  This is usually the result of calling `frame.insert` many times, which has poor performance.  Consider joining all columns at once using pd.concat(axis=1) instead. To get a de-fragmented frame, use `newframe = frame.copy()`\n",
      "  df[f\"{col}_mean_{w}\"] = g[col].transform(lambda s: s.rolling(w, min_periods=1).mean())\n",
      "C:\\Users\\harsh\\AppData\\Local\\Temp\\ipykernel_22120\\618202405.py:16: PerformanceWarning: DataFrame is highly fragmented.  This is usually the result of calling `frame.insert` many times, which has poor performance.  Consider joining all columns at once using pd.concat(axis=1) instead. To get a de-fragmented frame, use `newframe = frame.copy()`\n",
      "  df[f\"{col}_std_{w}\"]  = g[col].transform(lambda s: s.rolling(w, min_periods=1).std()).fillna(0.0)\n",
      "C:\\Users\\harsh\\AppData\\Local\\Temp\\ipykernel_22120\\618202405.py:15: PerformanceWarning: DataFrame is highly fragmented.  This is usually the result of calling `frame.insert` many times, which has poor performance.  Consider joining all columns at once using pd.concat(axis=1) instead. To get a de-fragmented frame, use `newframe = frame.copy()`\n",
      "  df[f\"{col}_mean_{w}\"] = g[col].transform(lambda s: s.rolling(w, min_periods=1).mean())\n",
      "C:\\Users\\harsh\\AppData\\Local\\Temp\\ipykernel_22120\\618202405.py:16: PerformanceWarning: DataFrame is highly fragmented.  This is usually the result of calling `frame.insert` many times, which has poor performance.  Consider joining all columns at once using pd.concat(axis=1) instead. To get a de-fragmented frame, use `newframe = frame.copy()`\n",
      "  df[f\"{col}_std_{w}\"]  = g[col].transform(lambda s: s.rolling(w, min_periods=1).std()).fillna(0.0)\n",
      "C:\\Users\\harsh\\AppData\\Local\\Temp\\ipykernel_22120\\618202405.py:15: PerformanceWarning: DataFrame is highly fragmented.  This is usually the result of calling `frame.insert` many times, which has poor performance.  Consider joining all columns at once using pd.concat(axis=1) instead. To get a de-fragmented frame, use `newframe = frame.copy()`\n",
      "  df[f\"{col}_mean_{w}\"] = g[col].transform(lambda s: s.rolling(w, min_periods=1).mean())\n",
      "C:\\Users\\harsh\\AppData\\Local\\Temp\\ipykernel_22120\\618202405.py:16: PerformanceWarning: DataFrame is highly fragmented.  This is usually the result of calling `frame.insert` many times, which has poor performance.  Consider joining all columns at once using pd.concat(axis=1) instead. To get a de-fragmented frame, use `newframe = frame.copy()`\n",
      "  df[f\"{col}_std_{w}\"]  = g[col].transform(lambda s: s.rolling(w, min_periods=1).std()).fillna(0.0)\n",
      "C:\\Users\\harsh\\AppData\\Local\\Temp\\ipykernel_22120\\618202405.py:15: PerformanceWarning: DataFrame is highly fragmented.  This is usually the result of calling `frame.insert` many times, which has poor performance.  Consider joining all columns at once using pd.concat(axis=1) instead. To get a de-fragmented frame, use `newframe = frame.copy()`\n",
      "  df[f\"{col}_mean_{w}\"] = g[col].transform(lambda s: s.rolling(w, min_periods=1).mean())\n",
      "C:\\Users\\harsh\\AppData\\Local\\Temp\\ipykernel_22120\\618202405.py:16: PerformanceWarning: DataFrame is highly fragmented.  This is usually the result of calling `frame.insert` many times, which has poor performance.  Consider joining all columns at once using pd.concat(axis=1) instead. To get a de-fragmented frame, use `newframe = frame.copy()`\n",
      "  df[f\"{col}_std_{w}\"]  = g[col].transform(lambda s: s.rolling(w, min_periods=1).std()).fillna(0.0)\n",
      "C:\\Users\\harsh\\AppData\\Local\\Temp\\ipykernel_22120\\618202405.py:15: PerformanceWarning: DataFrame is highly fragmented.  This is usually the result of calling `frame.insert` many times, which has poor performance.  Consider joining all columns at once using pd.concat(axis=1) instead. To get a de-fragmented frame, use `newframe = frame.copy()`\n",
      "  df[f\"{col}_mean_{w}\"] = g[col].transform(lambda s: s.rolling(w, min_periods=1).mean())\n",
      "C:\\Users\\harsh\\AppData\\Local\\Temp\\ipykernel_22120\\618202405.py:16: PerformanceWarning: DataFrame is highly fragmented.  This is usually the result of calling `frame.insert` many times, which has poor performance.  Consider joining all columns at once using pd.concat(axis=1) instead. To get a de-fragmented frame, use `newframe = frame.copy()`\n",
      "  df[f\"{col}_std_{w}\"]  = g[col].transform(lambda s: s.rolling(w, min_periods=1).std()).fillna(0.0)\n"
     ]
    },
    {
     "name": "stdout",
     "output_type": "stream",
     "text": [
      "(20631, 121) (13096, 121)\n"
     ]
    },
    {
     "name": "stderr",
     "output_type": "stream",
     "text": [
      "C:\\Users\\harsh\\AppData\\Local\\Temp\\ipykernel_22120\\618202405.py:15: PerformanceWarning: DataFrame is highly fragmented.  This is usually the result of calling `frame.insert` many times, which has poor performance.  Consider joining all columns at once using pd.concat(axis=1) instead. To get a de-fragmented frame, use `newframe = frame.copy()`\n",
      "  df[f\"{col}_mean_{w}\"] = g[col].transform(lambda s: s.rolling(w, min_periods=1).mean())\n",
      "C:\\Users\\harsh\\AppData\\Local\\Temp\\ipykernel_22120\\618202405.py:16: PerformanceWarning: DataFrame is highly fragmented.  This is usually the result of calling `frame.insert` many times, which has poor performance.  Consider joining all columns at once using pd.concat(axis=1) instead. To get a de-fragmented frame, use `newframe = frame.copy()`\n",
      "  df[f\"{col}_std_{w}\"]  = g[col].transform(lambda s: s.rolling(w, min_periods=1).std()).fillna(0.0)\n",
      "C:\\Users\\harsh\\AppData\\Local\\Temp\\ipykernel_22120\\618202405.py:15: PerformanceWarning: DataFrame is highly fragmented.  This is usually the result of calling `frame.insert` many times, which has poor performance.  Consider joining all columns at once using pd.concat(axis=1) instead. To get a de-fragmented frame, use `newframe = frame.copy()`\n",
      "  df[f\"{col}_mean_{w}\"] = g[col].transform(lambda s: s.rolling(w, min_periods=1).mean())\n",
      "C:\\Users\\harsh\\AppData\\Local\\Temp\\ipykernel_22120\\618202405.py:16: PerformanceWarning: DataFrame is highly fragmented.  This is usually the result of calling `frame.insert` many times, which has poor performance.  Consider joining all columns at once using pd.concat(axis=1) instead. To get a de-fragmented frame, use `newframe = frame.copy()`\n",
      "  df[f\"{col}_std_{w}\"]  = g[col].transform(lambda s: s.rolling(w, min_periods=1).std()).fillna(0.0)\n",
      "C:\\Users\\harsh\\AppData\\Local\\Temp\\ipykernel_22120\\618202405.py:15: PerformanceWarning: DataFrame is highly fragmented.  This is usually the result of calling `frame.insert` many times, which has poor performance.  Consider joining all columns at once using pd.concat(axis=1) instead. To get a de-fragmented frame, use `newframe = frame.copy()`\n",
      "  df[f\"{col}_mean_{w}\"] = g[col].transform(lambda s: s.rolling(w, min_periods=1).mean())\n",
      "C:\\Users\\harsh\\AppData\\Local\\Temp\\ipykernel_22120\\618202405.py:16: PerformanceWarning: DataFrame is highly fragmented.  This is usually the result of calling `frame.insert` many times, which has poor performance.  Consider joining all columns at once using pd.concat(axis=1) instead. To get a de-fragmented frame, use `newframe = frame.copy()`\n",
      "  df[f\"{col}_std_{w}\"]  = g[col].transform(lambda s: s.rolling(w, min_periods=1).std()).fillna(0.0)\n",
      "C:\\Users\\harsh\\AppData\\Local\\Temp\\ipykernel_22120\\618202405.py:15: PerformanceWarning: DataFrame is highly fragmented.  This is usually the result of calling `frame.insert` many times, which has poor performance.  Consider joining all columns at once using pd.concat(axis=1) instead. To get a de-fragmented frame, use `newframe = frame.copy()`\n",
      "  df[f\"{col}_mean_{w}\"] = g[col].transform(lambda s: s.rolling(w, min_periods=1).mean())\n",
      "C:\\Users\\harsh\\AppData\\Local\\Temp\\ipykernel_22120\\618202405.py:16: PerformanceWarning: DataFrame is highly fragmented.  This is usually the result of calling `frame.insert` many times, which has poor performance.  Consider joining all columns at once using pd.concat(axis=1) instead. To get a de-fragmented frame, use `newframe = frame.copy()`\n",
      "  df[f\"{col}_std_{w}\"]  = g[col].transform(lambda s: s.rolling(w, min_periods=1).std()).fillna(0.0)\n",
      "C:\\Users\\harsh\\AppData\\Local\\Temp\\ipykernel_22120\\618202405.py:15: PerformanceWarning: DataFrame is highly fragmented.  This is usually the result of calling `frame.insert` many times, which has poor performance.  Consider joining all columns at once using pd.concat(axis=1) instead. To get a de-fragmented frame, use `newframe = frame.copy()`\n",
      "  df[f\"{col}_mean_{w}\"] = g[col].transform(lambda s: s.rolling(w, min_periods=1).mean())\n",
      "C:\\Users\\harsh\\AppData\\Local\\Temp\\ipykernel_22120\\618202405.py:16: PerformanceWarning: DataFrame is highly fragmented.  This is usually the result of calling `frame.insert` many times, which has poor performance.  Consider joining all columns at once using pd.concat(axis=1) instead. To get a de-fragmented frame, use `newframe = frame.copy()`\n",
      "  df[f\"{col}_std_{w}\"]  = g[col].transform(lambda s: s.rolling(w, min_periods=1).std()).fillna(0.0)\n",
      "C:\\Users\\harsh\\AppData\\Local\\Temp\\ipykernel_22120\\618202405.py:15: PerformanceWarning: DataFrame is highly fragmented.  This is usually the result of calling `frame.insert` many times, which has poor performance.  Consider joining all columns at once using pd.concat(axis=1) instead. To get a de-fragmented frame, use `newframe = frame.copy()`\n",
      "  df[f\"{col}_mean_{w}\"] = g[col].transform(lambda s: s.rolling(w, min_periods=1).mean())\n",
      "C:\\Users\\harsh\\AppData\\Local\\Temp\\ipykernel_22120\\618202405.py:16: PerformanceWarning: DataFrame is highly fragmented.  This is usually the result of calling `frame.insert` many times, which has poor performance.  Consider joining all columns at once using pd.concat(axis=1) instead. To get a de-fragmented frame, use `newframe = frame.copy()`\n",
      "  df[f\"{col}_std_{w}\"]  = g[col].transform(lambda s: s.rolling(w, min_periods=1).std()).fillna(0.0)\n",
      "C:\\Users\\harsh\\AppData\\Local\\Temp\\ipykernel_22120\\618202405.py:15: PerformanceWarning: DataFrame is highly fragmented.  This is usually the result of calling `frame.insert` many times, which has poor performance.  Consider joining all columns at once using pd.concat(axis=1) instead. To get a de-fragmented frame, use `newframe = frame.copy()`\n",
      "  df[f\"{col}_mean_{w}\"] = g[col].transform(lambda s: s.rolling(w, min_periods=1).mean())\n",
      "C:\\Users\\harsh\\AppData\\Local\\Temp\\ipykernel_22120\\618202405.py:16: PerformanceWarning: DataFrame is highly fragmented.  This is usually the result of calling `frame.insert` many times, which has poor performance.  Consider joining all columns at once using pd.concat(axis=1) instead. To get a de-fragmented frame, use `newframe = frame.copy()`\n",
      "  df[f\"{col}_std_{w}\"]  = g[col].transform(lambda s: s.rolling(w, min_periods=1).std()).fillna(0.0)\n",
      "C:\\Users\\harsh\\AppData\\Local\\Temp\\ipykernel_22120\\618202405.py:15: PerformanceWarning: DataFrame is highly fragmented.  This is usually the result of calling `frame.insert` many times, which has poor performance.  Consider joining all columns at once using pd.concat(axis=1) instead. To get a de-fragmented frame, use `newframe = frame.copy()`\n",
      "  df[f\"{col}_mean_{w}\"] = g[col].transform(lambda s: s.rolling(w, min_periods=1).mean())\n",
      "C:\\Users\\harsh\\AppData\\Local\\Temp\\ipykernel_22120\\618202405.py:16: PerformanceWarning: DataFrame is highly fragmented.  This is usually the result of calling `frame.insert` many times, which has poor performance.  Consider joining all columns at once using pd.concat(axis=1) instead. To get a de-fragmented frame, use `newframe = frame.copy()`\n",
      "  df[f\"{col}_std_{w}\"]  = g[col].transform(lambda s: s.rolling(w, min_periods=1).std()).fillna(0.0)\n",
      "C:\\Users\\harsh\\AppData\\Local\\Temp\\ipykernel_22120\\618202405.py:15: PerformanceWarning: DataFrame is highly fragmented.  This is usually the result of calling `frame.insert` many times, which has poor performance.  Consider joining all columns at once using pd.concat(axis=1) instead. To get a de-fragmented frame, use `newframe = frame.copy()`\n",
      "  df[f\"{col}_mean_{w}\"] = g[col].transform(lambda s: s.rolling(w, min_periods=1).mean())\n",
      "C:\\Users\\harsh\\AppData\\Local\\Temp\\ipykernel_22120\\618202405.py:16: PerformanceWarning: DataFrame is highly fragmented.  This is usually the result of calling `frame.insert` many times, which has poor performance.  Consider joining all columns at once using pd.concat(axis=1) instead. To get a de-fragmented frame, use `newframe = frame.copy()`\n",
      "  df[f\"{col}_std_{w}\"]  = g[col].transform(lambda s: s.rolling(w, min_periods=1).std()).fillna(0.0)\n",
      "C:\\Users\\harsh\\AppData\\Local\\Temp\\ipykernel_22120\\618202405.py:15: PerformanceWarning: DataFrame is highly fragmented.  This is usually the result of calling `frame.insert` many times, which has poor performance.  Consider joining all columns at once using pd.concat(axis=1) instead. To get a de-fragmented frame, use `newframe = frame.copy()`\n",
      "  df[f\"{col}_mean_{w}\"] = g[col].transform(lambda s: s.rolling(w, min_periods=1).mean())\n",
      "C:\\Users\\harsh\\AppData\\Local\\Temp\\ipykernel_22120\\618202405.py:16: PerformanceWarning: DataFrame is highly fragmented.  This is usually the result of calling `frame.insert` many times, which has poor performance.  Consider joining all columns at once using pd.concat(axis=1) instead. To get a de-fragmented frame, use `newframe = frame.copy()`\n",
      "  df[f\"{col}_std_{w}\"]  = g[col].transform(lambda s: s.rolling(w, min_periods=1).std()).fillna(0.0)\n"
     ]
    }
   ],
   "source": [
    "def add_rolling_stats(df, base_cols, windows=(5, 15)):\n",
    "    df = df.sort_values([\"unit\", \"cycle\"]).copy()\n",
    "\n",
    "    # keep only columns that actually exist\n",
    "    base_cols = [c for c in base_cols if c in df.columns]\n",
    "\n",
    "    # cast to numeric per column (now guaranteed Series, not DataFrame)\n",
    "    for c in base_cols:\n",
    "        df[c] = pd.to_numeric(df[c], errors=\"coerce\")\n",
    "\n",
    "    g = df.groupby(\"unit\", group_keys=False)\n",
    "\n",
    "    for w in windows:\n",
    "        for col in base_cols:\n",
    "            df[f\"{col}_mean_{w}\"] = g[col].transform(lambda s: s.rolling(w, min_periods=1).mean())\n",
    "            df[f\"{col}_std_{w}\"]  = g[col].transform(lambda s: s.rolling(w, min_periods=1).std()).fillna(0.0)\n",
    "\n",
    "    return df\n",
    "\n",
    "train_f = add_rolling_stats(train_feats, base_cols, windows=(5,15,30))\n",
    "test_f  = add_rolling_stats(test_feats,  base_cols, windows=(5,15,30))\n",
    "\n",
    "print(train_f.shape, test_f.shape)\n"
   ]
  },
  {
   "cell_type": "code",
   "execution_count": 54,
   "id": "f9789409-f8c7-4bcd-b91e-d59bd994b751",
   "metadata": {},
   "outputs": [
    {
     "name": "stdout",
     "output_type": "stream",
     "text": [
      "Scaled. Saved scaler.pkl\n"
     ]
    }
   ],
   "source": [
    "scaler = StandardScaler()\n",
    "feat_cols = [c for c in train_f.columns if c not in (\"unit\",\"cycle\")]\n",
    "\n",
    "train_scaled = train_f.copy()\n",
    "test_scaled  = test_f.copy()\n",
    "train_scaled[feat_cols] = scaler.fit_transform(train_f[feat_cols])\n",
    "test_scaled[feat_cols]  = scaler.transform(test_f[feat_cols])\n",
    "\n",
    "joblib.dump(scaler, MODEL_DIR / \"scaler.pkl\")\n",
    "print(\"Scaled. Saved scaler.pkl\")\n"
   ]
  },
  {
   "cell_type": "code",
   "execution_count": 56,
   "id": "dda1ee66-4bd9-47a9-aa30-85c877891f88",
   "metadata": {},
   "outputs": [
    {
     "data": {
      "text/plain": [
       "((20631, 119), (100, 119), (20631,), (100,))"
      ]
     },
     "execution_count": 56,
     "metadata": {},
     "output_type": "execute_result"
    }
   ],
   "source": [
    "# Use ALL train rows; last-row per unit only for test\n",
    "feat_cols = [c for c in train_scaled.columns if c not in (\"unit\",\"cycle\")]\n",
    "\n",
    "# X/y for TRAIN: all rows\n",
    "X_train = train_scaled[feat_cols].values\n",
    "y_train = train_lbl[\"RUL\"].values\n",
    "\n",
    "# Optionally cap RUL (common practice): uncomment to try\n",
    "# CAP = 125\n",
    "# y_train = np.minimum(y_train, CAP)\n",
    "\n",
    "# TEST: last observed row per unit (predict \"now\")\n",
    "idx_last = test_scaled.groupby(\"unit\")[\"cycle\"].idxmax()\n",
    "X_test  = test_scaled.loc[idx_last, feat_cols].values\n",
    "y_test  = test_lbl.loc[idx_last, \"true_RUL\"].values\n",
    "\n",
    "X_train.shape, X_test.shape, y_train.shape, y_test.shape\n"
   ]
  },
  {
   "cell_type": "code",
   "execution_count": 58,
   "id": "fdab7ec4-6cbb-486a-88cd-d382338597ee",
   "metadata": {},
   "outputs": [],
   "source": [
    "def rmse(y_true, y_pred): \n",
    "    return mean_squared_error(y_true, y_pred, squared=False)\n",
    "\n",
    "def mae(y_true, y_pred): \n",
    "    return mean_absolute_error(y_true, y_pred)\n",
    "\n",
    "def nasa_score(y_true, y_pred):\n",
    "    d = y_pred - y_true\n",
    "    s = np.where(d < 0, np.exp(-d/13)-1, np.exp(d/10)-1)\n",
    "    return float(np.sum(s))\n"
   ]
  },
  {
   "cell_type": "code",
   "execution_count": 60,
   "id": "05b854e8-f440-4161-8138-1fcd66aa6353",
   "metadata": {},
   "outputs": [
    {
     "name": "stdout",
     "output_type": "stream",
     "text": [
      "RF (capped): RMSE=18.26  MAE=13.52  NASA=806.2\n",
      "GBR (capped): RMSE=16.97  MAE=12.89  NASA=533.4\n"
     ]
    }
   ],
   "source": [
    "CAP = 125\n",
    "y_train_capped = np.minimum(y_train, CAP)\n",
    "\n",
    "rf  = RandomForestRegressor(n_estimators=800, random_state=42, n_jobs=-1)\n",
    "gbr = GradientBoostingRegressor(random_state=42, learning_rate=0.05, n_estimators=1200, max_depth=3)\n",
    "\n",
    "def fit_eval_y(model, Xtr, ytr, name):\n",
    "    model.fit(Xtr, ytr)\n",
    "    pred = model.predict(X_test)\n",
    "    print(f\"{name}: RMSE={rmse(y_test,pred):.2f}  MAE={mae(y_test,pred):.2f}  NASA={nasa_score(y_test,pred):.1f}\")\n",
    "    return model, pred\n",
    "\n",
    "rf_model,  rf_pred  = fit_eval_y(rf,  X_train, y_train_capped, \"RF (capped)\")\n",
    "gbr_model, gbr_pred = fit_eval_y(gbr, X_train, y_train_capped, \"GBR (capped)\")\n"
   ]
  },
  {
   "cell_type": "code",
   "execution_count": 62,
   "id": "f49b8c0e-c13e-44de-9479-a28eb2a2c097",
   "metadata": {},
   "outputs": [
    {
     "name": "stdout",
     "output_type": "stream",
     "text": [
      "Best: gbr\n"
     ]
    },
    {
     "data": {
      "image/png": "[encoded data removed]",
      "text/plain": [
       "<Figure size 800x500 with 1 Axes>"
      ]
     },
     "metadata": {},
     "output_type": "display_data"
    },
    {
     "name": "stdout",
     "output_type": "stream",
     "text": [
      "Saved: C:\\Users\\harsh\\Projects\\NASA_TurboFan_RUL\\models\\rul_baseline_gbr.pkl\n"
     ]
    }
   ],
   "source": [
    "models = [(\"rf\", rf_model, rf_pred), (\"gbr\", gbr_model, gbr_pred)]\n",
    "best_name, best_model, best_pred = sorted(models, key=lambda t: rmse(y_test, t[2]))[0]\n",
    "print(\"Best:\", best_name)\n",
    "\n",
    "# Plot\n",
    "import matplotlib.pyplot as plt\n",
    "plt.scatter(y_test, best_pred, alpha=0.6)\n",
    "lims = [min(y_test.min(), best_pred.min()), max(y_test.max(), best_pred.max())]\n",
    "plt.plot(lims, lims, \"r--\")\n",
    "plt.xlabel(\"True RUL (cycles)\"); plt.ylabel(\"Predicted RUL (cycles)\")\n",
    "plt.title(f\"Predicted vs True RUL — {best_name.upper()}\")\n",
    "plt.show()\n",
    "\n",
    "# Save scaler + model\n",
    "joblib.dump(scaler, MODEL_DIR / \"scaler.pkl\")\n",
    "out_path = MODEL_DIR / f\"rul_baseline_{best_name}.pkl\"\n",
    "joblib.dump(best_model, out_path)\n",
    "print(\"Saved:\", out_path)\n"
   ]
  },
  {
   "cell_type": "code",
   "execution_count": null,
   "id": "1839bb1c-5a17-47ae-b431-14044669cf0d",
   "metadata": {},
   "outputs": [],
   "source": []
  }
 ],
 "metadata": {
  "kernelspec": {
   "display_name": "Python 3 (ipykernel)",
   "language": "python",
   "name": "python3"
  },
  "language_info": {
   "codemirror_mode": {
    "name": "ipython",
    "version": 3
   },
   "file_extension": ".py",
   "mimetype": "text/x-python",
   "name": "python",
   "nbconvert_exporter": "python",
   "pygments_lexer": "ipython3",
   "version": "3.11.7"
  }
 },
 "nbformat": 4,
 "nbformat_minor": 5
}
